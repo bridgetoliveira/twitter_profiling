{
 "cells": [
  {
   "cell_type": "code",
   "execution_count": null,
   "metadata": {
    "collapsed": true
   },
   "outputs": [],
   "source": [
    "#STEP 1: Counting how many males and females are avaible (n=436)\n",
    "\n",
    "#Below are the different filenames for me and Bridget's computer\n",
    "#filename = \"/Users/Bridget/Downloads/pan16-author-profiling-training-dataset-english-2016-04-25/truth.txt\"\n",
    "filename = \"C:/Users/xJuli/Downloads/python-for-text-analysis-master (1)/pan16-author-profiling-training-dataset-english-2016-04-25/truth.txt\"\n",
    "with open(filename, 'r') as infile:\n",
    "    #1.1: making a list for the data\n",
    "    tsv_data = []\n",
    "    for row in infile:\n",
    "        row = row.strip(\"\\n\")\n",
    "        #1.2 the data has ::: as delimiter -> CHECK IF WE WANT TO HAVE IT AS A VARIABLE!!\n",
    "        column = row.split(\":::\")\n",
    "        tsv_data.append(column)\n",
    "        #2 Creating a dict so we can count\n",
    "        amount = dict()\n",
    "        for row in tsv_data:\n",
    "            row = row[1]\n",
    "            if row not in amount:\n",
    "                amount[row] = 0\n",
    "            amount[row] +=1\n",
    "    #3 printing the dict        \n",
    "    print(amount)\n",
    "\n",
    "#the comment below was for testing purposes\n",
    "#print(tsv_data[18])"
   ]
  }
 ],
 "metadata": {
  "kernelspec": {
   "display_name": "Python 3",
   "language": "python",
   "name": "python3"
  },
  "language_info": {
   "codemirror_mode": {
    "name": "ipython",
    "version": 3
   },
   "file_extension": ".py",
   "mimetype": "text/x-python",
   "name": "python",
   "nbconvert_exporter": "python",
   "pygments_lexer": "ipython3",
   "version": "3.6.2"
  }
 },
 "nbformat": 4,
 "nbformat_minor": 2
}
